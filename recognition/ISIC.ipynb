{
 "cells": [
  {
   "cell_type": "code",
   "execution_count": 1,
   "metadata": {},
   "outputs": [],
   "source": [
    "import os\n",
    "import skimage.io as io\n",
    "import matplotlib.pyplot as plt\n",
    "import random\n",
    "from PIL import Image\n",
    "\n",
    "import tensorflow as tf\n",
    "\n",
    "import numpy as np\n"
   ]
  },
  {
   "cell_type": "code",
   "execution_count": 2,
   "metadata": {},
   "outputs": [],
   "source": [
    "import cv2\n",
    "import glob"
   ]
  },
  {
   "cell_type": "markdown",
   "metadata": {},
   "source": [
    "# Load data"
   ]
  },
  {
   "cell_type": "code",
   "execution_count": 3,
   "metadata": {},
   "outputs": [],
   "source": [
    "images = []\n",
    "for img in glob.glob(\"ISIC2018_Task1-2_Training_Data\\ISIC2018_Task1-2_Training_Input_x2/*.jpg\"):\n",
    "    n= cv2.imread(img,1)\n",
    "    images.append(n)"
   ]
  },
  {
   "cell_type": "code",
   "execution_count": 4,
   "metadata": {},
   "outputs": [],
   "source": [
    "masks = []\n",
    "for img in glob.glob(\"ISIC2018_Task1-2_Training_Data\\ISIC2018_Task1_Training_GroundTruth_x2/*.png\"):\n",
    "    m= cv2.imread(img,0)\n",
    "    masks.append(m)"
   ]
  },
  {
   "cell_type": "markdown",
   "metadata": {},
   "source": []
  },
  {
   "cell_type": "code",
   "execution_count": 5,
   "metadata": {},
   "outputs": [],
   "source": [
    "image_size = (256,256)"
   ]
  },
  {
   "cell_type": "code",
   "execution_count": 6,
   "metadata": {},
   "outputs": [],
   "source": [
    "for i in range(len(images)):\n",
    "    images[i] = cv2.resize(images[i],image_size,interpolation = cv2.INTER_CUBIC)\n",
    "    images[i] = images[i]/255\n",
    "for i in range(len(masks)):\n",
    "    masks[i] = cv2.resize(masks[i],image_size,interpolation = cv2.INTER_CUBIC)\n",
    "    masks[i] = np.round(masks[i]/255,0)"
   ]
  },
  {
   "cell_type": "code",
   "execution_count": 7,
   "metadata": {},
   "outputs": [],
   "source": [
    "X = np.zeros([2594, 256, 256, 3])\n",
    "y = np.zeros([2594, 256, 256])"
   ]
  },
  {
   "cell_type": "code",
   "execution_count": 8,
   "metadata": {},
   "outputs": [],
   "source": [
    "for i in range(len(images)):\n",
    "    X[i] = images[i]\n",
    "    \n",
    "for i in range(len(masks)):\n",
    "    y[i] = masks[i]\n",
    "        \n",
    "y = y[:, :, :, np.newaxis]"
   ]
  }
 ],
 "metadata": {
  "kernelspec": {
   "display_name": "Python 3",
   "language": "python",
   "name": "python3"
  },
  "language_info": {
   "codemirror_mode": {
    "name": "ipython",
    "version": 3
   },
   "file_extension": ".py",
   "mimetype": "text/x-python",
   "name": "python",
   "nbconvert_exporter": "python",
   "pygments_lexer": "ipython3",
   "version": "3.7.9"
  }
 },
 "nbformat": 4,
 "nbformat_minor": 4
}
